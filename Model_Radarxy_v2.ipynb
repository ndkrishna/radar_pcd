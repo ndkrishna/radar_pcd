{
 "cells": [
  {
   "cell_type": "code",
   "execution_count": 1,
   "id": "735bc3f3-4bd8-4c4a-929e-b56e418bc67a",
   "metadata": {},
   "outputs": [],
   "source": [
    "import pandas as pd\n",
    "import seaborn as sns\n",
    "import matplotlib.pyplot as plt\n",
    "import numpy as np\n",
    "from sklearn.preprocessing import LabelEncoder\n",
    "from pyquaternion import Quaternion\n",
    "from sklearn.preprocessing import StandardScaler\n",
    "from sklearn.decomposition import PCA\n",
    "import joblib\n",
    "from sklearn.model_selection import train_test_split\n",
    "from sklearn.preprocessing import StandardScaler\n",
    "from sklearn.linear_model import LinearRegression\n",
    "from sklearn.ensemble import RandomForestRegressor, GradientBoostingRegressor\n",
    "from sklearn.svm import SVR\n",
    "from sklearn.metrics import mean_squared_error, mean_absolute_error, r2_score\n",
    "import numpy as np\n",
    "from tensorflow.keras.models import Sequential\n",
    "from tensorflow.keras.layers import Dense\n",
    "from tensorflow.keras.optimizers import Adam\n",
    "import pandas as pd\n",
    "import matplotlib.pyplot as plt\n",
    "import numpy as np\n",
    "import matplotlib.pyplot as plt\n",
    "from sklearn.ensemble import RandomForestRegressor\n",
    "from sklearn.model_selection import GridSearchCV\n",
    "from sklearn.metrics import mean_squared_error, mean_absolute_error, r2_score\n",
    "from sklearn.inspection import permutation_importance\n"
   ]
  },
  {
   "cell_type": "code",
   "execution_count": 2,
   "id": "62e5abc3-fdcd-418e-a4d5-965ca085188c",
   "metadata": {},
   "outputs": [],
   "source": [
    "# Load the Excel file\n",
    "df_ref = pd.read_excel('Filtered_PCD_Annotations_AB.xlsx')"
   ]
  },
  {
   "cell_type": "code",
   "execution_count": 3,
   "id": "a053e182-78be-4fb3-81de-7e4eec8366a0",
   "metadata": {},
   "outputs": [
    {
     "name": "stdout",
     "output_type": "stream",
     "text": [
      "(5450, 8)\n",
      "(5304, 8)\n"
     ]
    }
   ],
   "source": [
    "#selected features is based on the EDA\n",
    "df_model_x = df_ref[['a_center_x', 'b_center_x',\n",
    " 'a_center_z',\n",
    " 'a_length',\n",
    " 'a_image_coord_y',\n",
    " 'a_depth',\n",
    " 'b_depth',\n",
    " 'a_radar_x']].copy()\n",
    "df_model_x['delta_center_x'] = df_model_x['b_center_x'] - df_model_x['a_center_x']\n",
    "df_model_x = df_model_x.drop(columns=['b_center_x'])\n",
    "print(df_model_x.shape)\n",
    "df_model_x = df_model_x.drop_duplicates()\n",
    "print(df_model_x.shape)"
   ]
  },
  {
   "cell_type": "code",
   "execution_count": 4,
   "id": "47012c54-5dec-41dd-890f-36ba06d0b2c8",
   "metadata": {},
   "outputs": [],
   "source": [
    "# Prepare the data for modeling x\n",
    "\n",
    "X = df_model_x[['a_center_x', 'delta_center_x', 'a_center_z',\n",
    " 'a_length',\n",
    " 'a_image_coord_y',\n",
    " 'a_depth',\n",
    " 'b_depth']]\n",
    "y = df_model_x['a_radar_x']\n",
    "\n",
    "X_train, X_test, y_train, y_test = train_test_split(X, y, test_size=0.2, random_state=42)\n",
    "\n",
    "scaler = StandardScaler()\n",
    "X_train_scaled = scaler.fit_transform(X_train)\n",
    "X_test_scaled = scaler.transform(X_test)"
   ]
  },
  {
   "cell_type": "code",
   "execution_count": 5,
   "id": "f0d00702-6daf-4a5b-b0a1-0dcbe3184a54",
   "metadata": {},
   "outputs": [],
   "source": [
    "# Define models to evaluate\n",
    "\n",
    "models = {\n",
    "    'LinearRegression': LinearRegression(),\n",
    "    'RandomForest': RandomForestRegressor(n_estimators=100, random_state=42),\n",
    "    'GradientBoosting': GradientBoostingRegressor(n_estimators=100, random_state=42),\n",
    "    'SVR': SVR()\n",
    "}"
   ]
  },
  {
   "cell_type": "code",
   "execution_count": 6,
   "id": "829b4e2d-2870-4834-a3bf-cac3ae927111",
   "metadata": {},
   "outputs": [],
   "source": [
    "# Evaluate each model\n",
    "results = {}\n",
    "\n",
    "for name, model in models.items():\n",
    "    model.fit(X_train_scaled, y_train)\n",
    "    y_pred = model.predict(X_test_scaled)\n",
    "    results[name] = {\n",
    "        'RMSE': np.sqrt(mean_squared_error(y_test, y_pred)),\n",
    "        'MAE': mean_absolute_error(y_test, y_pred),\n",
    "        'R2': r2_score(y_test, y_pred)\n",
    "    }"
   ]
  },
  {
   "cell_type": "code",
   "execution_count": 7,
   "id": "02368bc8-f26e-4cfc-86f3-9476f0c0d285",
   "metadata": {},
   "outputs": [
    {
     "name": "stderr",
     "output_type": "stream",
     "text": [
      "c:\\Users\\dilip\\anaconda3\\envs\\radarviz\\lib\\site-packages\\keras\\src\\layers\\core\\dense.py:92: UserWarning: Do not pass an `input_shape`/`input_dim` argument to a layer. When using Sequential models, prefer using an `Input(shape)` object as the first layer in the model instead.\n",
      "  super().__init__(activity_regularizer=activity_regularizer, **kwargs)\n"
     ]
    },
    {
     "name": "stdout",
     "output_type": "stream",
     "text": [
      "\u001b[1m34/34\u001b[0m \u001b[32m━━━━━━━━━━━━━━━━━━━━\u001b[0m\u001b[37m\u001b[0m \u001b[1m0s\u001b[0m 1ms/step \n"
     ]
    }
   ],
   "source": [
    "# Neural Network model\n",
    "\n",
    "nn_model = Sequential([\n",
    "    Dense(16, activation='relu', input_shape=(X_train_scaled.shape[1],)),\n",
    "    Dense(8, activation='relu'),\n",
    "    Dense(1)\n",
    "])\n",
    "\n",
    "nn_model.compile(optimizer=Adam(learning_rate=0.01), loss='mse', metrics=['mae'])\n",
    "\n",
    "nn_model.fit(X_train_scaled, y_train, epochs=100, batch_size=32, verbose=0)\n",
    "\n",
    "y_pred_nn = nn_model.predict(X_test_scaled).flatten()\n",
    "results['NeuralNet'] = {\n",
    "    'RMSE': np.sqrt(mean_squared_error(y_test, y_pred_nn)),\n",
    "    'MAE': mean_absolute_error(y_test, y_pred_nn),\n",
    "    'R2': r2_score(y_test, y_pred_nn)\n",
    "}"
   ]
  },
  {
   "cell_type": "code",
   "execution_count": 8,
   "id": "aa18f0e6-f187-4876-a5bd-6dcd011c3288",
   "metadata": {},
   "outputs": [
    {
     "name": "stdout",
     "output_type": "stream",
     "text": [
      "                      RMSE       MAE        R2\n",
      "LinearRegression  8.181317  5.782329  0.662460\n",
      "RandomForest      1.615372  0.506731  0.986841\n",
      "GradientBoosting  1.814399  0.880896  0.983399\n",
      "SVR               4.872144  1.811862  0.880293\n",
      "NeuralNet         1.930364  1.087540  0.981209\n"
     ]
    }
   ],
   "source": [
    "# Display results\n",
    "\n",
    "results_df = pd.DataFrame(results).T\n",
    "print(results_df)\n",
    "\n",
    "#results_df[['RMSE', 'MAE']].plot(kind='bar', figsize=(10, 6), title='Model Performance')\n",
    "#plt.ylabel('Error')\n",
    "#plt.xticks(rotation=45)\n",
    "#plt.grid(True)\n",
    "#plt.tight_layout()\n",
    "#plt.show()"
   ]
  },
  {
   "cell_type": "code",
   "execution_count": 9,
   "id": "48684a2b-ed6e-4618-9667-7f54615f9142",
   "metadata": {},
   "outputs": [
    {
     "name": "stdout",
     "output_type": "stream",
     "text": [
      "🔍 Random Forest Performance:\n",
      "RMSE: 1.5945\n",
      "MAE: 0.5035\n",
      "R2: 0.9872\n"
     ]
    },
    {
     "data": {
      "image/png": "[encoded data removed]",
      "text/plain": [
       "<Figure size 500x200 with 1 Axes>"
      ]
     },
     "metadata": {},
     "output_type": "display_data"
    }
   ],
   "source": [
    "# Further tuning of the best model (Random Forest in this case)\n",
    "\n",
    "param_grid = {\n",
    "    'n_estimators': [100, 200, 300],\n",
    "    'max_depth': [None, 10, 20],\n",
    "    'min_samples_split': [2, 5],\n",
    "    'min_samples_leaf': [1, 2]\n",
    "}\n",
    "\n",
    "rf = RandomForestRegressor(random_state=42)\n",
    "grid_search = GridSearchCV(rf, param_grid, cv=5, scoring='neg_mean_squared_error', n_jobs=-1)\n",
    "grid_search.fit(X_train_scaled, y_train)\n",
    "\n",
    "best_rf = grid_search.best_estimator_\n",
    "\n",
    "# Step 2: Predict and evaluate\n",
    "y_pred_rf = best_rf.predict(X_test_scaled)\n",
    "results['RandomForest_Tuned'] = {\n",
    "    'RMSE': np.sqrt(mean_squared_error(y_test, y_pred_rf)),\n",
    "    'MAE': mean_absolute_error(y_test, y_pred_rf),\n",
    "    'R2': r2_score(y_test, y_pred_rf)\n",
    "}\n",
    "\n",
    "# Print results\n",
    "print(\"🔍 Random Forest Performance:\")\n",
    "for metric, value in results['RandomForest_Tuned'].items():\n",
    "    print(f\"{metric}: {value:.4f}\")\n",
    "\n",
    "# Step 3: Residual analysis\n",
    "#residuals = y_test - y_pred_rf\n",
    "#plt.figure(figsize=(6, 4))\n",
    "#plt.hist(residuals, bins=50, color='teal', alpha=0.7)\n",
    "#plt.title(\"Residuals Distribution (Random Forest)\")\n",
    "#plt.xlabel(\"Error\")\n",
    "#plt.ylabel(\"Frequency\")\n",
    "#plt.tight_layout()\n",
    "#plt.show()\n",
    "\n",
    "# Step 4: Permutation importance\n",
    "perm_importance = permutation_importance(best_rf, X_test_scaled, y_test, n_repeats=10, random_state=42)\n",
    "\n",
    "# Plot top 10 features\n",
    "sorted_idx = perm_importance.importances_mean.argsort()[::-1][:10]\n",
    "plt.figure(figsize=(5, 2))\n",
    "plt.barh(range(len(sorted_idx)), perm_importance.importances_mean[sorted_idx], align='center')\n",
    "plt.yticks(range(len(sorted_idx)), [X_train.columns[i] for i in sorted_idx])\n",
    "plt.xlabel(\"Mean Importance\")\n",
    "plt.title(\"Top 10 Feature Importances (Permutation)\")\n",
    "plt.gca().invert_yaxis()\n",
    "plt.tight_layout()\n",
    "plt.show()"
   ]
  },
  {
   "cell_type": "code",
   "execution_count": 10,
   "id": "2b4b3759-0195-4991-b9a3-4e0928b1fba5",
   "metadata": {},
   "outputs": [
    {
     "name": "stdout",
     "output_type": "stream",
     "text": [
      "(5450, 8)\n",
      "(2624, 8)\n"
     ]
    }
   ],
   "source": [
    "# Prepare the data for Model for y\n",
    "df_model_y = df_ref[['a_center_x',\n",
    " 'a_rotation_w',\n",
    " 'a_rotation_z',\n",
    " 'a_yaw',\n",
    " 'a_image_coord_x',\n",
    " 'a_image_coord_y',\n",
    " 'a_vehicle_speed', 'b_vehicle_speed', \n",
    " 'a_radar_y']].copy()\n",
    "df_model_y['delta_vehicle_speed'] = df_model_y['b_vehicle_speed'] - df_model_y['a_vehicle_speed']\n",
    "df_model_y = df_model_y.drop(columns=['a_vehicle_speed', 'b_vehicle_speed'], axis=1)\n",
    "print(df_model_y.shape)\n",
    "df_model_y = df_model_y.drop_duplicates()\n",
    "print(df_model_y.shape)"
   ]
  },
  {
   "cell_type": "code",
   "execution_count": 11,
   "id": "c64a1230-1c87-41a3-b386-4c70fbacffe4",
   "metadata": {},
   "outputs": [],
   "source": [
    "# Prepare the data for modeling y\n",
    "\n",
    "X = df_model_y[['a_center_x',\n",
    " 'a_rotation_w',\n",
    " 'a_rotation_z',\n",
    " 'a_yaw',\n",
    " 'a_image_coord_x',\n",
    " 'a_image_coord_y',\n",
    " 'delta_vehicle_speed']]\n",
    "y = df_model_y['a_radar_y']\n",
    "\n",
    "X_train, X_test, y_train, y_test = train_test_split(X, y, test_size=0.2, random_state=42)\n",
    "\n",
    "scaler = StandardScaler()\n",
    "X_train_scaled = scaler.fit_transform(X_train)\n",
    "X_test_scaled = scaler.transform(X_test)"
   ]
  },
  {
   "cell_type": "code",
   "execution_count": 12,
   "id": "45d00d54-799d-43c0-8851-5bf07d03e655",
   "metadata": {},
   "outputs": [],
   "source": [
    "# Define models to evaluate\n",
    "\n",
    "models = {\n",
    "    'LinearRegression': LinearRegression(),\n",
    "    'RandomForest': RandomForestRegressor(n_estimators=100, random_state=42),\n",
    "    'GradientBoosting': GradientBoostingRegressor(n_estimators=100, random_state=42),\n",
    "    'SVR': SVR()\n",
    "}"
   ]
  },
  {
   "cell_type": "code",
   "execution_count": 13,
   "id": "a7e9f362-a283-4ebc-85a6-b2eb9fad6c98",
   "metadata": {},
   "outputs": [],
   "source": [
    "# Evaluate each model\n",
    "\n",
    "results = {}\n",
    "\n",
    "for name, model in models.items():\n",
    "    model.fit(X_train_scaled, y_train)\n",
    "    y_pred = model.predict(X_test_scaled)\n",
    "    results[name] = {\n",
    "        'RMSE': np.sqrt(mean_squared_error(y_test, y_pred)),\n",
    "        'MAE': mean_absolute_error(y_test, y_pred),\n",
    "        'R2': r2_score(y_test, y_pred)\n",
    "    }"
   ]
  },
  {
   "cell_type": "code",
   "execution_count": 14,
   "id": "a5c6dbec-cbcb-496b-bfd3-3fca273d39f3",
   "metadata": {},
   "outputs": [
    {
     "name": "stderr",
     "output_type": "stream",
     "text": [
      "c:\\Users\\dilip\\anaconda3\\envs\\radarviz\\lib\\site-packages\\keras\\src\\layers\\core\\dense.py:92: UserWarning: Do not pass an `input_shape`/`input_dim` argument to a layer. When using Sequential models, prefer using an `Input(shape)` object as the first layer in the model instead.\n",
      "  super().__init__(activity_regularizer=activity_regularizer, **kwargs)\n"
     ]
    },
    {
     "name": "stdout",
     "output_type": "stream",
     "text": [
      "\u001b[1m17/17\u001b[0m \u001b[32m━━━━━━━━━━━━━━━━━━━━\u001b[0m\u001b[37m\u001b[0m \u001b[1m0s\u001b[0m 2ms/step \n"
     ]
    }
   ],
   "source": [
    "# Neural Network model\n",
    "\n",
    "nn_model = Sequential([\n",
    "    Dense(16, activation='relu', input_shape=(X_train_scaled.shape[1],)),\n",
    "    Dense(8, activation='relu'),\n",
    "    Dense(1)\n",
    "])\n",
    "\n",
    "nn_model.compile(optimizer=Adam(learning_rate=0.01), loss='mse', metrics=['mae'])\n",
    "\n",
    "nn_model.fit(X_train_scaled, y_train, epochs=100, batch_size=32, verbose=0)\n",
    "\n",
    "y_pred_nn = nn_model.predict(X_test_scaled).flatten()\n",
    "results['NeuralNet'] = {\n",
    "    'RMSE': np.sqrt(mean_squared_error(y_test, y_pred_nn)),\n",
    "    'MAE': mean_absolute_error(y_test, y_pred_nn),\n",
    "    'R2': r2_score(y_test, y_pred_nn)\n",
    "}"
   ]
  },
  {
   "cell_type": "code",
   "execution_count": 15,
   "id": "1434ce65-34f9-45e1-a717-d1ea397c2892",
   "metadata": {},
   "outputs": [
    {
     "name": "stdout",
     "output_type": "stream",
     "text": [
      "                      RMSE       MAE        R2\n",
      "LinearRegression  3.628652  2.427721  0.769735\n",
      "RandomForest      0.832630  0.419890  0.987876\n",
      "GradientBoosting  1.019620  0.654303  0.981819\n",
      "SVR               2.056020  0.969311  0.926075\n",
      "NeuralNet         0.744792  0.494205  0.990299\n"
     ]
    }
   ],
   "source": [
    "# Display results\n",
    "\n",
    "results_df = pd.DataFrame(results).T\n",
    "print(results_df)\n"
   ]
  },
  {
   "cell_type": "code",
   "execution_count": 16,
   "id": "9d7b6d54",
   "metadata": {},
   "outputs": [
    {
     "name": "stdout",
     "output_type": "stream",
     "text": [
      "🔍 Random Forest Performance:\n",
      "RMSE: 0.8000\n",
      "MAE: 0.4026\n",
      "R2: 0.9888\n"
     ]
    },
    {
     "data": {
      "image/png": "[encoded data removed]",
      "text/plain": [
       "<Figure size 800x500 with 1 Axes>"
      ]
     },
     "metadata": {},
     "output_type": "display_data"
    }
   ],
   "source": [
    "# Fine-tuning of the best model (Random Forest in this case)\n",
    "\n",
    "# Step 1: Hyperparameter tuning\n",
    "param_grid = {\n",
    "    'n_estimators': [100, 200, 300],\n",
    "    'max_depth': [None, 10, 20],\n",
    "    'min_samples_split': [2, 5],\n",
    "    'min_samples_leaf': [1, 2]\n",
    "}\n",
    "\n",
    "rf = RandomForestRegressor(random_state=42)\n",
    "grid_search = GridSearchCV(rf, param_grid, cv=5, scoring='neg_mean_squared_error', n_jobs=-1)\n",
    "grid_search.fit(X_train_scaled, y_train)\n",
    "\n",
    "best_rf = grid_search.best_estimator_\n",
    "\n",
    "# Step 2: Predict and evaluate\n",
    "y_pred_rf = best_rf.predict(X_test_scaled)\n",
    "results['RandomForest_Tuned'] = {\n",
    "    'RMSE': np.sqrt(mean_squared_error(y_test, y_pred_rf)),\n",
    "    'MAE': mean_absolute_error(y_test, y_pred_rf),\n",
    "    'R2': r2_score(y_test, y_pred_rf)\n",
    "}\n",
    "\n",
    "# Print results\n",
    "print(\"🔍 Random Forest Performance:\")\n",
    "for metric, value in results['RandomForest_Tuned'].items():\n",
    "    print(f\"{metric}: {value:.4f}\")\n",
    "\n",
    "# Step 3: Residual analysis\n",
    "#residuals = y_test - y_pred_rf\n",
    "#plt.figure(figsize=(6, 4))\n",
    "#plt.hist(residuals, bins=50, color='teal', alpha=0.7)\n",
    "#plt.title(\"Residuals Distribution (Random Forest)\")\n",
    "#plt.xlabel(\"Error\")\n",
    "#plt.ylabel(\"Frequency\")\n",
    "#plt.tight_layout()\n",
    "#plt.show()\n",
    "\n",
    "# Step 4: Permutation importance\n",
    "perm_importance = permutation_importance(best_rf, X_test_scaled, y_test, n_repeats=10, random_state=42)\n",
    "\n",
    "# Plot top 10 features\n",
    "sorted_idx = perm_importance.importances_mean.argsort()[::-1][:10]\n",
    "plt.figure(figsize=(8, 5))\n",
    "plt.barh(range(len(sorted_idx)), perm_importance.importances_mean[sorted_idx], align='center')\n",
    "plt.yticks(range(len(sorted_idx)), [X_train.columns[i] for i in sorted_idx])\n",
    "plt.xlabel(\"Mean Importance\")\n",
    "plt.title(\"Top 10 Feature Importances (Permutation)\")\n",
    "plt.gca().invert_yaxis()\n",
    "plt.tight_layout()\n",
    "plt.show()"
   ]
  }
 ],
 "metadata": {
  "kernelspec": {
   "display_name": "Python (radarviz)",
   "language": "python",
   "name": "radarviz"
  },
  "language_info": {
   "codemirror_mode": {
    "name": "ipython",
    "version": 3
   },
   "file_extension": ".py",
   "mimetype": "text/x-python",
   "name": "python",
   "nbconvert_exporter": "python",
   "pygments_lexer": "ipython3",
   "version": "3.10.18"
  }
 },
 "nbformat": 4,
 "nbformat_minor": 5
}
