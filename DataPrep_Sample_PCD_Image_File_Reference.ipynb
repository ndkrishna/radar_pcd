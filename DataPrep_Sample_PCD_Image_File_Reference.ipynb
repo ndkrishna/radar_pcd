{
 "cells": [
  {
   "cell_type": "code",
   "execution_count": 1,
   "id": "8e2bbcb0-9d0a-4d4f-9d72-fa923b54703d",
   "metadata": {},
   "outputs": [
    {
     "name": "stdout",
     "output_type": "stream",
     "text": [
      "======\n",
      "Loading NuScenes tables for version v1.0-mini...\n",
      "23 category,\n",
      "8 attribute,\n",
      "4 visibility,\n",
      "911 instance,\n",
      "12 sensor,\n",
      "120 calibrated_sensor,\n",
      "31206 ego_pose,\n",
      "8 log,\n",
      "10 scene,\n",
      "404 sample,\n",
      "31206 sample_data,\n",
      "18538 sample_annotation,\n",
      "4 map,\n",
      "Done loading in 0.316 seconds.\n",
      "======\n",
      "Reverse indexing ...\n",
      "Done reverse indexing in 0.1 seconds.\n",
      "======\n"
     ]
    }
   ],
   "source": [
    "# Import all required libraries\n",
    "from nuscenes.nuscenes import NuScenes\n",
    "from nuscenes.utils.data_classes import Box\n",
    "from nuscenes.utils.data_classes import RadarPointCloud\n",
    "import numpy as np\n",
    "import matplotlib.pyplot as plt\n",
    "np.set_printoptions(suppress=True, precision=4)  # suppress scientific notation, 4 decimal digits\n",
    "import pandas as pd\n",
    "from nuscenes.can_bus.can_bus_api import NuScenesCanBus\n",
    "from pyquaternion import Quaternion\n",
    "from nuscenes.utils.geometry_utils import view_points\n",
    "import copy\n",
    "import os\n",
    "from scipy.spatial import cKDTree\n",
    "import pandas as pd\n",
    "\n",
    "#Create the nuscene object to read and traverse the data\n",
    "nusc = NuScenes(version='v1.0-mini', dataroot='../data/sets/nuscenes', verbose=True)"
   ]
  },
  {
   "cell_type": "code",
   "execution_count": 2,
   "id": "0902cbb8-b232-491e-b195-8d107decf888",
   "metadata": {},
   "outputs": [],
   "source": [
    "rows = []\n",
    "\n",
    "for scene in nusc.scene:\n",
    "    scene_token = scene['token']\n",
    "    scene_name = scene['name']\n",
    "    \n",
    "    sample_token = scene['first_sample_token']\n",
    "    \n",
    "    while sample_token:\n",
    "        sample = nusc.get('sample', sample_token)\n",
    "        next_token = sample['next']\n",
    "        \n",
    "        cam_token = sample['data']['CAM_FRONT']\n",
    "        cam_data = nusc.get('sample_data', cam_token)\n",
    "\n",
    "        radar_token = sample['data']['RADAR_FRONT']\n",
    "        radar_data = nusc.get('sample_data', radar_token)\n",
    "        \n",
    "        camera_pose = nusc.get('ego_pose', cam_data['ego_pose_token'])\n",
    "\n",
    "        radar_pcd_file = os.path.join(nusc.dataroot, radar_data['filename'])\n",
    "        image_file = os.path.join(nusc.dataroot, cam_data['filename'])\n",
    "\n",
    "        row = {\n",
    "            'scene_token': scene_token,\n",
    "            'scene_name': scene_name,\n",
    "            'sample_token': sample_token,\n",
    "            'next_token': next_token,\n",
    "            'radar_pcd_file': radar_pcd_file,\n",
    "            'image_file': image_file,\n",
    "            'camera_pose_x': camera_pose['translation'][0],\n",
    "            'camera_pose_y': camera_pose['translation'][1],\n",
    "            'camera_pose_z': camera_pose['translation'][2]\n",
    "        }\n",
    "\n",
    "    \n",
    "        rows.append(row)\n",
    "\n",
    "        sample_token = next_token  # Move to next sample\n",
    "\n",
    "df_filenames = pd.DataFrame(rows)"
   ]
  },
  {
   "cell_type": "markdown",
   "id": "391bc33e-c575-4e26-aa1c-87730ee56f2d",
   "metadata": {},
   "source": [
    "df_filenames.head()"
   ]
  },
  {
   "cell_type": "code",
   "execution_count": 3,
   "id": "faba74da-f529-4fd4-820a-5797c0a551b9",
   "metadata": {},
   "outputs": [],
   "source": [
    "df_filenames.to_excel('Sample-PCD-ImageFileReference.xlsx', index=False)"
   ]
  }
 ],
 "metadata": {
  "kernelspec": {
   "display_name": "Python (radarviz)",
   "language": "python",
   "name": "radarviz"
  },
  "language_info": {
   "codemirror_mode": {
    "name": "ipython",
    "version": 3
   },
   "file_extension": ".py",
   "mimetype": "text/x-python",
   "name": "python",
   "nbconvert_exporter": "python",
   "pygments_lexer": "ipython3",
   "version": "3.10.18"
  }
 },
 "nbformat": 4,
 "nbformat_minor": 5
}
